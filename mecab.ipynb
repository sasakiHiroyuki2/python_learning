{
 "cells": [
  {
   "cell_type": "code",
   "execution_count": 4,
   "metadata": {},
   "outputs": [
    {
     "name": "stdout",
     "output_type": "stream",
     "text": [
      "吾輩\tワガハイ\t吾輩\t名詞-代名詞-一般\t\t\n",
      "は\tハ\tは\t助詞-係助詞\t\t\n",
      "猫\tネコ\t猫\t名詞-一般\t\t\n",
      "で\tデ\tだ\t助動詞\t特殊・ダ\t連用形\n",
      "ある\tアル\tある\t助動詞\t五段・ラ行アル\t基本形\n",
      "EOS\n",
      "\n"
     ]
    }
   ],
   "source": [
    "import MeCab\n",
    "text = \"吾輩は猫である\"\n",
    "t = MeCab.Tagger(\"-Ochasen\")\n",
    "result = t.parse(text)\n",
    "print(result)"
   ]
  },
  {
   "cell_type": "code",
   "execution_count": 5,
   "metadata": {},
   "outputs": [
    {
     "data": {
      "text/plain": [
       "'吾輩\\tワガハイ\\t吾輩\\t名詞-代名詞-一般\\t\\t\\nは\\tハ\\tは\\t助詞-係助詞\\t\\t\\n猫\\tネコ\\t猫\\t名詞-一般\\t\\t\\nで\\tデ\\tだ\\t助動詞\\t特殊・ダ\\t連用形\\nある\\tアル\\tある\\t助動詞\\t五段・ラ行アル\\t基本形\\nEOS\\n'"
      ]
     },
     "execution_count": 5,
     "metadata": {},
     "output_type": "execute_result"
    }
   ],
   "source": [
    "result"
   ]
  },
  {
   "cell_type": "code",
   "execution_count": 6,
   "metadata": {},
   "outputs": [
    {
     "name": "stdout",
     "output_type": "stream",
     "text": [
      "['吾輩', 'ワガハイ', '吾輩', '名詞-代名詞-一般', '', '']\n",
      "['は', 'ハ', 'は', '助詞-係助詞', '', '']\n",
      "['猫', 'ネコ', '猫', '名詞-一般', '', '']\n",
      "['で', 'デ', 'だ', '助動詞', '特殊・ダ', '連用形']\n",
      "['ある', 'アル', 'ある', '助動詞', '五段・ラ行アル', '基本形']\n"
     ]
    }
   ],
   "source": [
    "#改行を区切りとして分割\n",
    "results = result.splitlines()\n",
    "#EOSの行は対象外\n",
    "for res in results[:-1]:\n",
    "    #タブを区切りとして分割\n",
    "    res_split = res.split(\"\\t\")\n",
    "    print(res_split)"
   ]
  },
  {
   "cell_type": "code",
   "execution_count": 16,
   "metadata": {},
   "outputs": [
    {
     "name": "stdout",
     "output_type": "stream",
     "text": [
      "[['子供', 'が', '走る'], ['車', 'が', '走る'], ['子供', 'の', '脇', 'を', '車', 'が', '走る'], ['子供', 'の', '脇', 'を', '車', 'と', '子供', 'が', '走る']]\n"
     ]
    }
   ],
   "source": [
    "documents = [\"子供が走る\",\"車が走る\",\"子供の脇を車が走る\",\"子供の脇を車と子供が走る\"]\n",
    "words_list = []\n",
    "t = MeCab.Tagger(\"-Ochasen\")\n",
    "\n",
    "for s in documents:\n",
    "    s_parsed = t.parse(s)\n",
    "    words_s = []\n",
    "    for line in s_parsed.splitlines()[:-1]:\n",
    "        words_s.append(line.split(\"\\t\")[0])\n",
    "    words_list.append(words_s)\n",
    "    \n",
    "print(words_list)"
   ]
  },
  {
   "cell_type": "code",
   "execution_count": 17,
   "metadata": {},
   "outputs": [
    {
     "name": "stdout",
     "output_type": "stream",
     "text": [
      "{'子供': 0, 'が': 1, '走る': 2, '車': 3, 'の': 4, '脇': 5, 'を': 6, 'と': 7}\n"
     ]
    }
   ],
   "source": [
    "word2int = {}\n",
    "i = 0\n",
    "for words in words_list:\n",
    "    for word in words:\n",
    "        if word not in word2int:\n",
    "            word2int[word] = i\n",
    "            i+= 1\n",
    "print(word2int)"
   ]
  },
  {
   "cell_type": "code",
   "execution_count": 18,
   "metadata": {},
   "outputs": [
    {
     "name": "stdout",
     "output_type": "stream",
     "text": [
      "[[1. 1. 1. 0. 0. 0. 0. 0.]\n",
      " [0. 1. 1. 1. 0. 0. 0. 0.]\n",
      " [1. 1. 1. 1. 1. 1. 1. 0.]\n",
      " [2. 1. 1. 1. 1. 1. 1. 1.]]\n"
     ]
    }
   ],
   "source": [
    "import numpy as np\n",
    "#各文書毎の単語の出現回数を生成\n",
    "bow = np.zeros((len(words_list),len(word2int)))\n",
    "for i,words in enumerate(words_list):\n",
    "    for word in words:\n",
    "        bow[i,word2int[word]] += 1\n",
    "print(bow)"
   ]
  },
  {
   "cell_type": "code",
   "execution_count": 19,
   "metadata": {},
   "outputs": [
    {
     "name": "stderr",
     "output_type": "stream",
     "text": [
      "/Library/Frameworks/Python.framework/Versions/3.6/lib/python3.6/importlib/_bootstrap.py:219: RuntimeWarning: numpy.dtype size changed, may indicate binary incompatibility. Expected 96, got 88\n",
      "  return f(*args, **kwds)\n",
      "/Library/Frameworks/Python.framework/Versions/3.6/lib/python3.6/importlib/_bootstrap.py:219: RuntimeWarning: numpy.dtype size changed, may indicate binary incompatibility. Expected 96, got 88\n",
      "  return f(*args, **kwds)\n"
     ]
    },
    {
     "data": {
      "text/html": [
       "<div>\n",
       "<style scoped>\n",
       "    .dataframe tbody tr th:only-of-type {\n",
       "        vertical-align: middle;\n",
       "    }\n",
       "\n",
       "    .dataframe tbody tr th {\n",
       "        vertical-align: top;\n",
       "    }\n",
       "\n",
       "    .dataframe thead th {\n",
       "        text-align: right;\n",
       "    }\n",
       "</style>\n",
       "<table border=\"1\" class=\"dataframe\">\n",
       "  <thead>\n",
       "    <tr style=\"text-align: right;\">\n",
       "      <th></th>\n",
       "      <th>子供</th>\n",
       "      <th>が</th>\n",
       "      <th>走る</th>\n",
       "      <th>車</th>\n",
       "      <th>の</th>\n",
       "      <th>脇</th>\n",
       "      <th>を</th>\n",
       "      <th>と</th>\n",
       "    </tr>\n",
       "  </thead>\n",
       "  <tbody>\n",
       "    <tr>\n",
       "      <th>0</th>\n",
       "      <td>1.0</td>\n",
       "      <td>1.0</td>\n",
       "      <td>1.0</td>\n",
       "      <td>0.0</td>\n",
       "      <td>0.0</td>\n",
       "      <td>0.0</td>\n",
       "      <td>0.0</td>\n",
       "      <td>0.0</td>\n",
       "    </tr>\n",
       "    <tr>\n",
       "      <th>1</th>\n",
       "      <td>0.0</td>\n",
       "      <td>1.0</td>\n",
       "      <td>1.0</td>\n",
       "      <td>1.0</td>\n",
       "      <td>0.0</td>\n",
       "      <td>0.0</td>\n",
       "      <td>0.0</td>\n",
       "      <td>0.0</td>\n",
       "    </tr>\n",
       "    <tr>\n",
       "      <th>2</th>\n",
       "      <td>1.0</td>\n",
       "      <td>1.0</td>\n",
       "      <td>1.0</td>\n",
       "      <td>1.0</td>\n",
       "      <td>1.0</td>\n",
       "      <td>1.0</td>\n",
       "      <td>1.0</td>\n",
       "      <td>0.0</td>\n",
       "    </tr>\n",
       "    <tr>\n",
       "      <th>3</th>\n",
       "      <td>2.0</td>\n",
       "      <td>1.0</td>\n",
       "      <td>1.0</td>\n",
       "      <td>1.0</td>\n",
       "      <td>1.0</td>\n",
       "      <td>1.0</td>\n",
       "      <td>1.0</td>\n",
       "      <td>1.0</td>\n",
       "    </tr>\n",
       "  </tbody>\n",
       "</table>\n",
       "</div>"
      ],
      "text/plain": [
       "    子供    が   走る    車    の    脇    を    と\n",
       "0  1.0  1.0  1.0  0.0  0.0  0.0  0.0  0.0\n",
       "1  0.0  1.0  1.0  1.0  0.0  0.0  0.0  0.0\n",
       "2  1.0  1.0  1.0  1.0  1.0  1.0  1.0  0.0\n",
       "3  2.0  1.0  1.0  1.0  1.0  1.0  1.0  1.0"
      ]
     },
     "execution_count": 19,
     "metadata": {},
     "output_type": "execute_result"
    }
   ],
   "source": [
    "import pandas as pd\n",
    "pd.DataFrame(bow,columns=list(word2int))"
   ]
  },
  {
   "cell_type": "code",
   "execution_count": 23,
   "metadata": {},
   "outputs": [
    {
     "name": "stdout",
     "output_type": "stream",
     "text": [
      "Dictionary(8 unique tokens: ['が', '子供', '走る', '車', 'の']...)\n"
     ]
    }
   ],
   "source": [
    "from gensim import corpora\n",
    "word2int_gs = corpora.Dictionary(words_list)\n",
    "print(word2int_gs)"
   ]
  },
  {
   "cell_type": "code",
   "execution_count": 24,
   "metadata": {},
   "outputs": [
    {
     "name": "stdout",
     "output_type": "stream",
     "text": [
      "{'が': 0, '子供': 1, '走る': 2, '車': 3, 'の': 4, 'を': 5, '脇': 6, 'と': 7}\n"
     ]
    }
   ],
   "source": [
    "print(word2int_gs.token2id)"
   ]
  },
  {
   "cell_type": "code",
   "execution_count": 31,
   "metadata": {},
   "outputs": [
    {
     "name": "stdout",
     "output_type": "stream",
     "text": [
      "[(0, 1), (2, 1), (3, 1)]\n"
     ]
    }
   ],
   "source": [
    "#１番目の文書に含まれる単語の出現回数をカウント\n",
    "print(word2int_gs.doc2bow(words_list[1]))"
   ]
  },
  {
   "cell_type": "code",
   "execution_count": 29,
   "metadata": {},
   "outputs": [
    {
     "data": {
      "text/plain": [
       "['子供', 'の', '脇', 'を', '車', 'と', '子供', 'が', '走る']"
      ]
     },
     "execution_count": 29,
     "metadata": {},
     "output_type": "execute_result"
    }
   ],
   "source": [
    "words_list[3]"
   ]
  },
  {
   "cell_type": "code",
   "execution_count": 28,
   "metadata": {},
   "outputs": [
    {
     "data": {
      "text/plain": [
       "[['子供', 'が', '走る'],\n",
       " ['車', 'が', '走る'],\n",
       " ['子供', 'の', '脇', 'を', '車', 'が', '走る'],\n",
       " ['子供', 'の', '脇', 'を', '車', 'と', '子供', 'が', '走る']]"
      ]
     },
     "execution_count": 28,
     "metadata": {},
     "output_type": "execute_result"
    }
   ],
   "source": [
    "words_list"
   ]
  },
  {
   "cell_type": "code",
   "execution_count": 39,
   "metadata": {},
   "outputs": [
    {
     "name": "stdout",
     "output_type": "stream",
     "text": [
      "[[1 1 1 0 0 0 0 0]\n",
      " [1 0 1 1 0 0 0 0]\n",
      " [1 1 1 1 1 1 1 0]\n",
      " [1 2 1 1 1 1 1 1]]\n"
     ]
    }
   ],
   "source": [
    "import numpy as np\n",
    "from gensim import matutils\n",
    "\n",
    "bow_gs = np.array(\n",
    "    [matutils.corpus2dense(\n",
    "        [word2int_gs.doc2bow(words)],\n",
    "        num_terms = len(word2int)).T[0]\n",
    "        for words in words_list]\n",
    "    ).astype(np.int)\n",
    "\n",
    "print(bow_gs)"
   ]
  },
  {
   "cell_type": "code",
   "execution_count": 40,
   "metadata": {},
   "outputs": [
    {
     "data": {
      "text/html": [
       "<div>\n",
       "<style scoped>\n",
       "    .dataframe tbody tr th:only-of-type {\n",
       "        vertical-align: middle;\n",
       "    }\n",
       "\n",
       "    .dataframe tbody tr th {\n",
       "        vertical-align: top;\n",
       "    }\n",
       "\n",
       "    .dataframe thead th {\n",
       "        text-align: right;\n",
       "    }\n",
       "</style>\n",
       "<table border=\"1\" class=\"dataframe\">\n",
       "  <thead>\n",
       "    <tr style=\"text-align: right;\">\n",
       "      <th></th>\n",
       "      <th>が</th>\n",
       "      <th>子供</th>\n",
       "      <th>走る</th>\n",
       "      <th>車</th>\n",
       "      <th>の</th>\n",
       "      <th>を</th>\n",
       "      <th>脇</th>\n",
       "      <th>と</th>\n",
       "    </tr>\n",
       "  </thead>\n",
       "  <tbody>\n",
       "    <tr>\n",
       "      <th>0</th>\n",
       "      <td>1</td>\n",
       "      <td>1</td>\n",
       "      <td>1</td>\n",
       "      <td>0</td>\n",
       "      <td>0</td>\n",
       "      <td>0</td>\n",
       "      <td>0</td>\n",
       "      <td>0</td>\n",
       "    </tr>\n",
       "    <tr>\n",
       "      <th>1</th>\n",
       "      <td>1</td>\n",
       "      <td>0</td>\n",
       "      <td>1</td>\n",
       "      <td>1</td>\n",
       "      <td>0</td>\n",
       "      <td>0</td>\n",
       "      <td>0</td>\n",
       "      <td>0</td>\n",
       "    </tr>\n",
       "    <tr>\n",
       "      <th>2</th>\n",
       "      <td>1</td>\n",
       "      <td>1</td>\n",
       "      <td>1</td>\n",
       "      <td>1</td>\n",
       "      <td>1</td>\n",
       "      <td>1</td>\n",
       "      <td>1</td>\n",
       "      <td>0</td>\n",
       "    </tr>\n",
       "    <tr>\n",
       "      <th>3</th>\n",
       "      <td>1</td>\n",
       "      <td>2</td>\n",
       "      <td>1</td>\n",
       "      <td>1</td>\n",
       "      <td>1</td>\n",
       "      <td>1</td>\n",
       "      <td>1</td>\n",
       "      <td>1</td>\n",
       "    </tr>\n",
       "  </tbody>\n",
       "</table>\n",
       "</div>"
      ],
      "text/plain": [
       "   が  子供  走る  車  の  を  脇  と\n",
       "0  1   1   1  0  0  0  0  0\n",
       "1  1   0   1  1  0  0  0  0\n",
       "2  1   1   1  1  1  1  1  0\n",
       "3  1   2   1  1  1  1  1  1"
      ]
     },
     "execution_count": 40,
     "metadata": {},
     "output_type": "execute_result"
    }
   ],
   "source": [
    "bow_gs_df = pd.DataFrame(bow_gs,columns=list(word2int_gs.values()))\n",
    "bow_gs_df"
   ]
  },
  {
   "cell_type": "code",
   "execution_count": 48,
   "metadata": {},
   "outputs": [
    {
     "name": "stdout",
     "output_type": "stream",
     "text": [
      "['子供  が  走る' '車  が  走る' '子供  の  脇  を  車  が  走る'\n",
      " '子供  の  脇  を  車  と  子供  が  走る']\n"
     ]
    }
   ],
   "source": [
    "words_split = np.array(['  '.join(words) for words in words_list])\n",
    "print(words_split)"
   ]
  },
  {
   "cell_type": "code",
   "execution_count": 49,
   "metadata": {},
   "outputs": [
    {
     "data": {
      "text/plain": [
       "array([[1, 0, 0, 0, 0, 0],\n",
       "       [1, 0, 0, 0, 0, 1],\n",
       "       [1, 0, 1, 1, 1, 1],\n",
       "       [1, 1, 1, 1, 1, 1]], dtype=int64)"
      ]
     },
     "execution_count": 49,
     "metadata": {},
     "output_type": "execute_result"
    }
   ],
   "source": [
    "from sklearn.feature_extraction.text import CountVectorizer\n",
    "\n",
    "vectorizer = CountVectorizer(token_pattern=u'(?u)\\\\b\\\\w + \\\\b')\n",
    "\n",
    "bow_vec = vectorizer.fit_transform(words_split)\n",
    "bow_vec.toarray()"
   ]
  },
  {
   "cell_type": "code",
   "execution_count": 50,
   "metadata": {},
   "outputs": [
    {
     "data": {
      "text/plain": [
       "['が  ', 'と  ', 'の  ', 'を  ', '脇  ', '車  ']"
      ]
     },
     "execution_count": 50,
     "metadata": {},
     "output_type": "execute_result"
    }
   ],
   "source": [
    "vectorizer.get_feature_names()"
   ]
  },
  {
   "cell_type": "code",
   "execution_count": 52,
   "metadata": {},
   "outputs": [
    {
     "data": {
      "text/html": [
       "<div>\n",
       "<style scoped>\n",
       "    .dataframe tbody tr th:only-of-type {\n",
       "        vertical-align: middle;\n",
       "    }\n",
       "\n",
       "    .dataframe tbody tr th {\n",
       "        vertical-align: top;\n",
       "    }\n",
       "\n",
       "    .dataframe thead th {\n",
       "        text-align: right;\n",
       "    }\n",
       "</style>\n",
       "<table border=\"1\" class=\"dataframe\">\n",
       "  <thead>\n",
       "    <tr style=\"text-align: right;\">\n",
       "      <th></th>\n",
       "      <th>が</th>\n",
       "      <th>子供</th>\n",
       "      <th>走る</th>\n",
       "      <th>車</th>\n",
       "      <th>の</th>\n",
       "      <th>を</th>\n",
       "      <th>脇</th>\n",
       "      <th>と</th>\n",
       "    </tr>\n",
       "  </thead>\n",
       "  <tbody>\n",
       "    <tr>\n",
       "      <th>0</th>\n",
       "      <td>1</td>\n",
       "      <td>1</td>\n",
       "      <td>1</td>\n",
       "      <td>0</td>\n",
       "      <td>0</td>\n",
       "      <td>0</td>\n",
       "      <td>0</td>\n",
       "      <td>0</td>\n",
       "    </tr>\n",
       "    <tr>\n",
       "      <th>1</th>\n",
       "      <td>1</td>\n",
       "      <td>0</td>\n",
       "      <td>1</td>\n",
       "      <td>1</td>\n",
       "      <td>0</td>\n",
       "      <td>0</td>\n",
       "      <td>0</td>\n",
       "      <td>0</td>\n",
       "    </tr>\n",
       "    <tr>\n",
       "      <th>2</th>\n",
       "      <td>1</td>\n",
       "      <td>1</td>\n",
       "      <td>1</td>\n",
       "      <td>1</td>\n",
       "      <td>1</td>\n",
       "      <td>1</td>\n",
       "      <td>1</td>\n",
       "      <td>0</td>\n",
       "    </tr>\n",
       "    <tr>\n",
       "      <th>3</th>\n",
       "      <td>1</td>\n",
       "      <td>2</td>\n",
       "      <td>1</td>\n",
       "      <td>1</td>\n",
       "      <td>1</td>\n",
       "      <td>1</td>\n",
       "      <td>1</td>\n",
       "      <td>1</td>\n",
       "    </tr>\n",
       "  </tbody>\n",
       "</table>\n",
       "</div>"
      ],
      "text/plain": [
       "   が  子供  走る  車  の  を  脇  と\n",
       "0  1   1   1  0  0  0  0  0\n",
       "1  1   0   1  1  0  0  0  0\n",
       "2  1   1   1  1  1  1  1  0\n",
       "3  1   2   1  1  1  1  1  1"
      ]
     },
     "execution_count": 52,
     "metadata": {},
     "output_type": "execute_result"
    }
   ],
   "source": [
    "### TF-IDF ###\n",
    "bow_gs_df"
   ]
  },
  {
   "cell_type": "code",
   "execution_count": 53,
   "metadata": {},
   "outputs": [
    {
     "name": "stdout",
     "output_type": "stream",
     "text": [
      "[[1 1 1 0 0 0 0 0]\n",
      " [1 0 1 1 0 0 0 0]\n",
      " [1 1 1 1 1 1 1 0]\n",
      " [1 2 1 1 1 1 1 1]]\n"
     ]
    }
   ],
   "source": [
    "tf = bow_gs\n",
    "print(tf)"
   ]
  },
  {
   "cell_type": "code",
   "execution_count": 54,
   "metadata": {},
   "outputs": [
    {
     "name": "stdout",
     "output_type": "stream",
     "text": [
      "[0.         0.         0.         0.22314355 0.51082562 0.51082562\n",
      " 0.51082562 0.91629073]\n"
     ]
    }
   ],
   "source": [
    "idf = np.log((bow_gs.shape[0] + 1)/(np.sum(bow_gs,axis=0,keepdims=0)+1))\n",
    "print(idf)"
   ]
  },
  {
   "cell_type": "code",
   "execution_count": 55,
   "metadata": {},
   "outputs": [
    {
     "name": "stdout",
     "output_type": "stream",
     "text": [
      "[[0.408112   0.408112   0.408112   0.24958978 0.30829303 0.30829303\n",
      "  0.30829303 0.39103062]\n",
      " [0.40437209 0.20218605 0.40437209 0.44948861 0.30546786 0.30546786\n",
      "  0.30546786 0.38744725]\n",
      " [0.31811311 0.31811311 0.31811311 0.35360555 0.39936327 0.39936327\n",
      "  0.39936327 0.3047986 ]\n",
      " [0.28467089 0.42700633 0.28467089 0.31643213 0.35737948 0.35737948\n",
      "  0.35737948 0.41509154]]\n"
     ]
    }
   ],
   "source": [
    "tf_idf = tf + (idf + 1)\n",
    "tf_idf_normarized = tf_idf / np.sqrt(np.sum(tf_idf ** 2,axis=1,keepdims=True))\n",
    "print(tf_idf_normarized)"
   ]
  },
  {
   "cell_type": "code",
   "execution_count": 57,
   "metadata": {},
   "outputs": [
    {
     "name": "stdout",
     "output_type": "stream",
     "text": [
      "[[0.53482206 0.65416415 0.53482206 0.         0.         0.\n",
      "  0.         0.        ]\n",
      " [0.53482206 0.         0.53482206 0.65416415 0.         0.\n",
      "  0.         0.        ]\n",
      " [0.2906198  0.35546974 0.2906198  0.35546974 0.43907584 0.43907584\n",
      "  0.43907584 0.        ]\n",
      " [0.22360482 0.5470016  0.22360482 0.2735008  0.3378279  0.3378279\n",
      "  0.3378279  0.42849185]]\n"
     ]
    }
   ],
   "source": [
    "from sklearn.feature_extraction.text import TfidfTransformer\n",
    "tfidf = TfidfTransformer(use_idf=True,norm = \"l2\",smooth_idf=True)\n",
    "print(tfidf.fit_transform(bow_gs).toarray())"
   ]
  },
  {
   "cell_type": "code",
   "execution_count": 114,
   "metadata": {},
   "outputs": [],
   "source": [
    "#極性判定\n",
    "import zipfile\n",
    "import urllib.request\n",
    "\n",
    "# urllib.request.urlretrieve(\"https://www.aozora.gr.jp/cards/000148/files/789_ruby_5639.zip\")\n",
    "with zipfile.ZipFile(\"789_ruby_5639.zip\",\"r\") as zipf:\n",
    "    data = zipf.read(\"wagahaiwa_nekodearu.txt\")"
   ]
  },
  {
   "cell_type": "code",
   "execution_count": 115,
   "metadata": {},
   "outputs": [
    {
     "name": "stdout",
     "output_type": "stream",
     "text": [
      "['一吾輩は猫である', '名前はまだ無い', 'どこで生れたかとんと見当がつかぬ', '何でも薄暗いじめじめした所でニャーニャー泣いていた事だけは記憶している', '吾輩はここで始めて人間というものを見た', 'しかもあとで聞くとそれは書生という人間中で一番｜獰悪な種族であったそうだ', 'この書生というのは時々我々を捕えて煮て食うという話である', 'しかしその当時は何という考もなかったから別段恐しいとも思わなかった', 'ただ彼の掌に載せられてスーと持ち上げられた時何だかフワフワした感じがあったばかりである', '掌の上で少し落ちついて書生の顔を見たのがいわゆる人間というものの見始であろう']\n"
     ]
    }
   ],
   "source": [
    "import re\n",
    "text = data.decode(\"shift_jis\")\n",
    "#ルビ、注釈、改行コード等を除去\n",
    "text = re.split( r'\\-{5,}',text)[2]\n",
    "text = text.split(\"底本：\")[0]\n",
    "text = re.sub(r'《.+?》' ,'',text)\n",
    "text = re.sub(r'［＃.+?］' ,'',text)\n",
    "text = text.strip()\n",
    "#空白文字などを除去\n",
    "text = text .replace(\"\\u3000\",\"\")\n",
    "text = text .replace(\"\\r\",\"\") .replace(\"\\n\",\"\")\n",
    "sentences = text.split(\"。\")\n",
    "print(sentences[:10])"
   ]
  },
  {
   "cell_type": "code",
   "execution_count": 116,
   "metadata": {},
   "outputs": [
    {
     "name": "stdout",
     "output_type": "stream",
     "text": [
      "[['一', '吾輩', 'は', '猫', 'だ', 'ある'], ['名前', 'は', 'まだ', '無い'], ['どこ', 'で', '生れる', 'た', 'か', 'とんと', '見当', 'が', 'つく', 'ぬ'], ['何', 'でも', '薄暗い', 'じめじめ', 'する', 'た', '所', 'で', 'ニャーニャー', '泣く', 'て', 'いた事', 'だけ', 'は', '記憶', 'する', 'て', 'いる'], ['吾輩', 'は', 'ここ', 'で', '始める', 'て', '人間', 'という', 'もの', 'を', '見る', 'た'], ['しかも', 'あと', 'で', '聞く', 'と', 'それ', 'は', '書生', 'という', '人間', '中', 'で', '一番', '｜', '獰悪', 'だ', '種族', 'だ', 'ある', 'た', 'そう', 'だ'], ['この', '書生', 'という', 'の', 'は', '時々', '我々', 'を', '捕える', 'て', '煮る', 'て', '食う', 'という', '話', 'だ', 'ある'], ['しかし', 'その', '当時', 'は', '何', 'という', '考', 'も', 'ない', 'た', 'から', '別段', '恐い', 'いとも', '思う', 'ない', 'た'], ['ただ', '彼', 'の', '掌', 'に', '載せる', 'られる', 'て', 'スー', 'と', '持ち上げる', 'られる', 'た', '時', '何だか', 'フワフワ', 'する', 'た', '感じ', 'が', 'ある', 'た', 'ばかり', 'だ', 'ある'], ['掌', 'の', '上', 'で', '少し', '落ちつく', 'て', '書生', 'の', '顔', 'を', '見る', 'た', 'の', 'が', 'いわゆる', '人間', 'という', 'もの', 'の', '見る', '始', 'だ', 'ある', 'う']]\n"
     ]
    }
   ],
   "source": [
    "words_list = []\n",
    "t=MeCab.Tagger(\"-Ochasen\")\n",
    "for sentence in sentences[:-1]:\n",
    "    sentence_parsed = t.parse(sentence)\n",
    "    word_s = []\n",
    "    for line in sentence_parsed.splitlines()[:-1]:\n",
    "        word_s.append(line.split('\\t')[2])\n",
    "    words_list.append(word_s)\n",
    "    \n",
    "print(words_list[:10])"
   ]
  },
  {
   "cell_type": "code",
   "execution_count": 117,
   "metadata": {},
   "outputs": [
    {
     "data": {
      "text/plain": [
       "('wago.121808.pn', <http.client.HTTPMessage at 0x1141ed3c8>)"
      ]
     },
     "execution_count": 117,
     "metadata": {},
     "output_type": "execute_result"
    }
   ],
   "source": [
    "urllib.request.urlretrieve(\"http://www.cl.ecei.tohoku.ac.jp/resources/sent_lex/wago.121808.pn\",\"wago.121808.pn\")"
   ]
  },
  {
   "cell_type": "code",
   "execution_count": 118,
   "metadata": {},
   "outputs": [
    {
     "data": {
      "text/html": [
       "<div>\n",
       "<style scoped>\n",
       "    .dataframe tbody tr th:only-of-type {\n",
       "        vertical-align: middle;\n",
       "    }\n",
       "\n",
       "    .dataframe tbody tr th {\n",
       "        vertical-align: top;\n",
       "    }\n",
       "\n",
       "    .dataframe thead th {\n",
       "        text-align: right;\n",
       "    }\n",
       "</style>\n",
       "<table border=\"1\" class=\"dataframe\">\n",
       "  <thead>\n",
       "    <tr style=\"text-align: right;\">\n",
       "      <th></th>\n",
       "      <th>0</th>\n",
       "      <th>1</th>\n",
       "    </tr>\n",
       "  </thead>\n",
       "  <tbody>\n",
       "    <tr>\n",
       "      <th>0</th>\n",
       "      <td>ネガ（経験）</td>\n",
       "      <td>あがく</td>\n",
       "    </tr>\n",
       "    <tr>\n",
       "      <th>1</th>\n",
       "      <td>ネガ（経験）</td>\n",
       "      <td>あきらめる</td>\n",
       "    </tr>\n",
       "    <tr>\n",
       "      <th>2</th>\n",
       "      <td>ネガ（経験）</td>\n",
       "      <td>あきる</td>\n",
       "    </tr>\n",
       "  </tbody>\n",
       "</table>\n",
       "</div>"
      ],
      "text/plain": [
       "        0      1\n",
       "0  ネガ（経験）    あがく\n",
       "1  ネガ（経験）  あきらめる\n",
       "2  ネガ（経験）    あきる"
      ]
     },
     "execution_count": 118,
     "metadata": {},
     "output_type": "execute_result"
    }
   ],
   "source": [
    "#日本語評価極性辞書を読み込む\n",
    "wago = pd.read_csv(\"wago.121808.pn\",header = None,sep = \"\\t\")\n",
    "wago.head(3)"
   ]
  },
  {
   "cell_type": "code",
   "execution_count": 120,
   "metadata": {},
   "outputs": [],
   "source": [
    "word2score = {}\n",
    "values = {\"ポジ（経験）\":1,\"ポジ（評価）\":1,\"ネガ（経験）\":-1,\"ネガ（評価）\":-1}\n",
    "for word,label in zip(wago.loc[:,1],wago.loc[:,0]):\n",
    "    word2score[word] = values[label]"
   ]
  },
  {
   "cell_type": "code",
   "execution_count": 121,
   "metadata": {},
   "outputs": [
    {
     "data": {
      "text/plain": [
       "[('あがく', -1), ('あきらめる', -1), ('あきる', -1)]"
      ]
     },
     "execution_count": 121,
     "metadata": {},
     "output_type": "execute_result"
    }
   ],
   "source": [
    "list(word2score.items())[:3]"
   ]
  },
  {
   "cell_type": "code",
   "execution_count": 124,
   "metadata": {},
   "outputs": [],
   "source": [
    "scores = []\n",
    "for words in words_list:\n",
    "    score = 0\n",
    "    for word in words:\n",
    "        if word in word2score:\n",
    "            score += word2score[word]\n",
    "    scores.append(score)"
   ]
  },
  {
   "cell_type": "code",
   "execution_count": 128,
   "metadata": {},
   "outputs": [
    {
     "data": {
      "text/html": [
       "<div>\n",
       "<style scoped>\n",
       "    .dataframe tbody tr th:only-of-type {\n",
       "        vertical-align: middle;\n",
       "    }\n",
       "\n",
       "    .dataframe tbody tr th {\n",
       "        vertical-align: top;\n",
       "    }\n",
       "\n",
       "    .dataframe thead th {\n",
       "        text-align: right;\n",
       "    }\n",
       "</style>\n",
       "<table border=\"1\" class=\"dataframe\">\n",
       "  <thead>\n",
       "    <tr style=\"text-align: right;\">\n",
       "      <th></th>\n",
       "      <th>sentence</th>\n",
       "      <th>score</th>\n",
       "    </tr>\n",
       "  </thead>\n",
       "  <tbody>\n",
       "    <tr>\n",
       "      <th>0</th>\n",
       "      <td>一吾輩は猫である</td>\n",
       "      <td>0</td>\n",
       "    </tr>\n",
       "    <tr>\n",
       "      <th>1</th>\n",
       "      <td>名前はまだ無い</td>\n",
       "      <td>0</td>\n",
       "    </tr>\n",
       "    <tr>\n",
       "      <th>2</th>\n",
       "      <td>どこで生れたかとんと見当がつかぬ</td>\n",
       "      <td>0</td>\n",
       "    </tr>\n",
       "    <tr>\n",
       "      <th>3</th>\n",
       "      <td>何でも薄暗いじめじめした所でニャーニャー泣いていた事だけは記憶している</td>\n",
       "      <td>-1</td>\n",
       "    </tr>\n",
       "    <tr>\n",
       "      <th>4</th>\n",
       "      <td>吾輩はここで始めて人間というものを見た</td>\n",
       "      <td>0</td>\n",
       "    </tr>\n",
       "  </tbody>\n",
       "</table>\n",
       "</div>"
      ],
      "text/plain": [
       "                              sentence  score\n",
       "0                             一吾輩は猫である      0\n",
       "1                              名前はまだ無い      0\n",
       "2                     どこで生れたかとんと見当がつかぬ      0\n",
       "3  何でも薄暗いじめじめした所でニャーニャー泣いていた事だけは記憶している     -1\n",
       "4                  吾輩はここで始めて人間というものを見た      0"
      ]
     },
     "execution_count": 128,
     "metadata": {},
     "output_type": "execute_result"
    }
   ],
   "source": [
    "scores_df = pd.DataFrame({\"sentence\":sentences[:-1],\"score\":scores},columns=[\"sentence\",\"score\"])\n",
    "scores_df.head(5)"
   ]
  },
  {
   "cell_type": "code",
   "execution_count": 129,
   "metadata": {},
   "outputs": [
    {
     "data": {
      "text/html": [
       "<div>\n",
       "<style scoped>\n",
       "    .dataframe tbody tr th:only-of-type {\n",
       "        vertical-align: middle;\n",
       "    }\n",
       "\n",
       "    .dataframe tbody tr th {\n",
       "        vertical-align: top;\n",
       "    }\n",
       "\n",
       "    .dataframe thead th {\n",
       "        text-align: right;\n",
       "    }\n",
       "</style>\n",
       "<table border=\"1\" class=\"dataframe\">\n",
       "  <thead>\n",
       "    <tr style=\"text-align: right;\">\n",
       "      <th></th>\n",
       "      <th>sentence</th>\n",
       "      <th>score</th>\n",
       "    </tr>\n",
       "  </thead>\n",
       "  <tbody>\n",
       "    <tr>\n",
       "      <th>1428</th>\n",
       "      <td>四百六十五行から、四百七十三行を御覧になると分ります」「希臘語｜云々はよした方がいい、さも希...</td>\n",
       "      <td>5</td>\n",
       "    </tr>\n",
       "    <tr>\n",
       "      <th>453</th>\n",
       "      <td>「厭きっぽいのじゃない薬が利かんのだ」「それだってせんだってじゅうは大変によく利くよく利くと...</td>\n",
       "      <td>5</td>\n",
       "    </tr>\n",
       "    <tr>\n",
       "      <th>5380</th>\n",
       "      <td>精神の修養を主張するところなぞは大に敬服していい」「敬服していいかね</td>\n",
       "      <td>4</td>\n",
       "    </tr>\n",
       "    <tr>\n",
       "      <th>3860</th>\n",
       "      <td>美しい？美しくても構わんから、美しい獣と見做せばいいのである</td>\n",
       "      <td>4</td>\n",
       "    </tr>\n",
       "    <tr>\n",
       "      <th>3871</th>\n",
       "      <td>それほど裸体がいいものなら娘を裸体にして、ついでに自分も裸になって上野公園を散歩でもするがい...</td>\n",
       "      <td>3</td>\n",
       "    </tr>\n",
       "  </tbody>\n",
       "</table>\n",
       "</div>"
      ],
      "text/plain": [
       "                                               sentence  score\n",
       "1428  四百六十五行から、四百七十三行を御覧になると分ります」「希臘語｜云々はよした方がいい、さも希...      5\n",
       "453   「厭きっぽいのじゃない薬が利かんのだ」「それだってせんだってじゅうは大変によく利くよく利くと...      5\n",
       "5380                 精神の修養を主張するところなぞは大に敬服していい」「敬服していいかね      4\n",
       "3860                     美しい？美しくても構わんから、美しい獣と見做せばいいのである      4\n",
       "3871  それほど裸体がいいものなら娘を裸体にして、ついでに自分も裸になって上野公園を散歩でもするがい...      3"
      ]
     },
     "execution_count": 129,
     "metadata": {},
     "output_type": "execute_result"
    }
   ],
   "source": [
    "scores_df_sorted = scores_df.sort_values(\"score\",ascending=False)\n",
    "scores_df_sorted.head(5)"
   ]
  },
  {
   "cell_type": "code",
   "execution_count": 130,
   "metadata": {},
   "outputs": [
    {
     "data": {
      "text/html": [
       "<div>\n",
       "<style scoped>\n",
       "    .dataframe tbody tr th:only-of-type {\n",
       "        vertical-align: middle;\n",
       "    }\n",
       "\n",
       "    .dataframe tbody tr th {\n",
       "        vertical-align: top;\n",
       "    }\n",
       "\n",
       "    .dataframe thead th {\n",
       "        text-align: right;\n",
       "    }\n",
       "</style>\n",
       "<table border=\"1\" class=\"dataframe\">\n",
       "  <thead>\n",
       "    <tr style=\"text-align: right;\">\n",
       "      <th></th>\n",
       "      <th>sentence</th>\n",
       "      <th>score</th>\n",
       "    </tr>\n",
       "  </thead>\n",
       "  <tbody>\n",
       "    <tr>\n",
       "      <th>7014</th>\n",
       "      <td>自殺クラブはこの第二の問題と共に起るべき運命を有している」「なるほど」「死ぬ事は苦しい、しか...</td>\n",
       "      <td>-3</td>\n",
       "    </tr>\n",
       "    <tr>\n",
       "      <th>7098</th>\n",
       "      <td>向うがあやまるなら特別、私の方ではそんな慾はありません」「警察が君にあやまれと命じたらどうで...</td>\n",
       "      <td>-4</td>\n",
       "    </tr>\n",
       "    <tr>\n",
       "      <th>3783</th>\n",
       "      <td>こんな、しつこい、毒悪な、ねちねちした、執念深い奴は大嫌だ</td>\n",
       "      <td>-4</td>\n",
       "    </tr>\n",
       "    <tr>\n",
       "      <th>6618</th>\n",
       "      <td>どうもいつまで行っても柿ばかり食ってて際限がないね」「私もじれったくてね」「君より聞いてる方...</td>\n",
       "      <td>-4</td>\n",
       "    </tr>\n",
       "    <tr>\n",
       "      <th>6687</th>\n",
       "      <td>「古人を待つ身につらき置炬燵と云われた事があるからね、また待たるる身より待つ身はつらいともあ...</td>\n",
       "      <td>-5</td>\n",
       "    </tr>\n",
       "  </tbody>\n",
       "</table>\n",
       "</div>"
      ],
      "text/plain": [
       "                                               sentence  score\n",
       "7014  自殺クラブはこの第二の問題と共に起るべき運命を有している」「なるほど」「死ぬ事は苦しい、しか...     -3\n",
       "7098  向うがあやまるなら特別、私の方ではそんな慾はありません」「警察が君にあやまれと命じたらどうで...     -4\n",
       "3783                      こんな、しつこい、毒悪な、ねちねちした、執念深い奴は大嫌だ     -4\n",
       "6618  どうもいつまで行っても柿ばかり食ってて際限がないね」「私もじれったくてね」「君より聞いてる方...     -4\n",
       "6687  「古人を待つ身につらき置炬燵と云われた事があるからね、また待たるる身より待つ身はつらいともあ...     -5"
      ]
     },
     "execution_count": 130,
     "metadata": {},
     "output_type": "execute_result"
    }
   ],
   "source": [
    "scores_df_sorted.tail(5)"
   ]
  },
  {
   "cell_type": "code",
   "execution_count": null,
   "metadata": {},
   "outputs": [],
   "source": []
  }
 ],
 "metadata": {
  "kernelspec": {
   "display_name": "Python 3",
   "language": "python",
   "name": "python3"
  },
  "language_info": {
   "codemirror_mode": {
    "name": "ipython",
    "version": 3
   },
   "file_extension": ".py",
   "mimetype": "text/x-python",
   "name": "python",
   "nbconvert_exporter": "python",
   "pygments_lexer": "ipython3",
   "version": "3.6.6"
  }
 },
 "nbformat": 4,
 "nbformat_minor": 4
}
