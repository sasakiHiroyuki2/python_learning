{
 "cells": [
  {
   "cell_type": "code",
   "execution_count": 2,
   "metadata": {},
   "outputs": [
    {
     "name": "stdout",
     "output_type": "stream",
     "text": [
      "<class 'requests.models.Response'>\n",
      "200\n"
     ]
    }
   ],
   "source": [
    "import requests\n",
    "r = requests.get(\"http://codezine.jp/\")\n",
    "print(type(r))\n",
    "print(r.status_code)"
   ]
  },
  {
   "cell_type": "code",
   "execution_count": 5,
   "metadata": {},
   "outputs": [
    {
     "name": "stdout",
     "output_type": "stream",
     "text": [
      "<title>CodeZine（コードジン）</title>\n"
     ]
    }
   ],
   "source": [
    "text = r.text\n",
    "for line in text.split(\"\\n\"):\n",
    "    if \"<title>\" in line or \"<h1>\" in line:\n",
    "        print(line.strip())"
   ]
  },
  {
   "cell_type": "code",
   "execution_count": 7,
   "metadata": {},
   "outputs": [
    {
     "name": "stdout",
     "output_type": "stream",
     "text": [
      "<title>CodeZine（コードジン）</title>\n",
      "<h1><a href=\"/\"><img alt=\"CodeZine（コードジン）\" src=\"//cz-cdn.shoeisha.jp/lib/img/cmn/cmn-header-logo.png\"/></a></h1>\n",
      "CodeZine（コードジン）\n"
     ]
    }
   ],
   "source": [
    "from bs4 import BeautifulSoup\n",
    "soup = BeautifulSoup(text,\"html.parser\")\n",
    "print(soup.title)\n",
    "print(soup.h1)\n",
    "print(soup.h1.a.img[\"alt\"])"
   ]
  },
  {
   "cell_type": "code",
   "execution_count": 10,
   "metadata": {},
   "outputs": [
    {
     "name": "stdout",
     "output_type": "stream",
     "text": [
      "aタグの数: 172\n",
      "タイトル： このページの本文へ移動\n",
      "リンク： #contents\n",
      "タイトル： \n",
      "リンク： /\n",
      "タイトル： ホーム\n",
      "リンク： /\n",
      "タイトル： ニュース\n",
      "リンク： /news/\n",
      "タイトル： 記事\n",
      "リンク： /article/\n"
     ]
    }
   ],
   "source": [
    "atags = soup.find_all(\"a\")\n",
    "print(\"aタグの数:\",len(atags))\n",
    "for atag in atags[:5]:\n",
    "    print(\"タイトル：\",atag.text)\n",
    "    print(\"リンク：\",atag[\"href\"])"
   ]
  },
  {
   "cell_type": "code",
   "execution_count": 25,
   "metadata": {},
   "outputs": [],
   "source": [
    "from datetime import datetime\n",
    "\n",
    "r = requests.get(\"http://codezine.jp/article/\")\n",
    "soup = BeautifulSoup(r.text,\"html.parser\")\n",
    "articles = []\n",
    "lis = soup.select(\"ul.catList > li\")\n",
    "for li in lis:\n",
    "    day = li.find(\"div\",class_=\"day\").text.strip()\n",
    "    published = datetime.strptime(day,\"%Y/%m/%d\")\n",
    "    h2_tag = li.find(\"h2\")\n",
    "    title = h2_tag.text\n",
    "    url = h2_tag.a[\"href\"]\n",
    "    \n",
    "    tag_list = li.select(\"ul.tag > li\")\n",
    "    tags = [tag.text.strip() for tag in tag_list]\n",
    "    \n",
    "    article= {\n",
    "        \"published\": published,\n",
    "        \"title\": title,\n",
    "        \"url\": url,\n",
    "        \"tags\" : tags\n",
    "    }\n",
    "    articles.append(article)\n"
   ]
  },
  {
   "cell_type": "code",
   "execution_count": 26,
   "metadata": {},
   "outputs": [
    {
     "data": {
      "text/plain": [
       "[{'published': datetime.datetime(2020, 10, 2, 0, 0),\n",
       "  'title': 'ノンコーディングでサイト構築～Drupalのレイアウトビルダーを使おう',\n",
       "  'url': '/article/detail/12871',\n",
       "  'tags': ['PHP', '技術解説', 'アプリケーション開発']},\n",
       " {'published': datetime.datetime(2020, 10, 2, 0, 0),\n",
       "  'title': '全エンジニアがプロダクトの状況と方針を理解した上で開発する――CTO不在の組織再建の舞台裏',\n",
       "  'url': '/article/detail/12829',\n",
       "  'tags': ['プロダクト開発', 'エンジニア組織']},\n",
       " {'published': datetime.datetime(2020, 10, 1, 0, 0),\n",
       "  'title': 'ノンコーディングでサイト構築～Drupalの多言語機能とメディア管理',\n",
       "  'url': '/article/detail/12860',\n",
       "  'tags': ['PHP', '技術解説', 'アプリケーション開発']}]"
      ]
     },
     "execution_count": 26,
     "metadata": {},
     "output_type": "execute_result"
    }
   ],
   "source": [
    "articles[:3]"
   ]
  },
  {
   "cell_type": "code",
   "execution_count": 28,
   "metadata": {
    "scrolled": true
   },
   "outputs": [
    {
     "data": {
      "text/html": [
       "<div>\n",
       "<style scoped>\n",
       "    .dataframe tbody tr th:only-of-type {\n",
       "        vertical-align: middle;\n",
       "    }\n",
       "\n",
       "    .dataframe tbody tr th {\n",
       "        vertical-align: top;\n",
       "    }\n",
       "\n",
       "    .dataframe thead th {\n",
       "        text-align: right;\n",
       "    }\n",
       "</style>\n",
       "<table border=\"1\" class=\"dataframe\">\n",
       "  <thead>\n",
       "    <tr style=\"text-align: right;\">\n",
       "      <th></th>\n",
       "      <th>published</th>\n",
       "      <th>tags</th>\n",
       "      <th>title</th>\n",
       "      <th>url</th>\n",
       "    </tr>\n",
       "  </thead>\n",
       "  <tbody>\n",
       "    <tr>\n",
       "      <th>0</th>\n",
       "      <td>2020-10-02</td>\n",
       "      <td>[PHP, 技術解説, アプリケーション開発]</td>\n",
       "      <td>ノンコーディングでサイト構築～Drupalのレイアウトビルダーを使おう</td>\n",
       "      <td>/article/detail/12871</td>\n",
       "    </tr>\n",
       "    <tr>\n",
       "      <th>1</th>\n",
       "      <td>2020-10-02</td>\n",
       "      <td>[プロダクト開発, エンジニア組織]</td>\n",
       "      <td>全エンジニアがプロダクトの状況と方針を理解した上で開発する――CTO不在の組織再建の舞台裏</td>\n",
       "      <td>/article/detail/12829</td>\n",
       "    </tr>\n",
       "    <tr>\n",
       "      <th>2</th>\n",
       "      <td>2020-10-01</td>\n",
       "      <td>[PHP, 技術解説, アプリケーション開発]</td>\n",
       "      <td>ノンコーディングでサイト構築～Drupalの多言語機能とメディア管理</td>\n",
       "      <td>/article/detail/12860</td>\n",
       "    </tr>\n",
       "    <tr>\n",
       "      <th>3</th>\n",
       "      <td>2020-10-01</td>\n",
       "      <td>[クラウド, AWS, セキュリティ, 事例]</td>\n",
       "      <td>AWS Fargateの活用事例――金融業界の繊細なセキュリティ課題をどう乗り越えるのか、マ...</td>\n",
       "      <td>/article/detail/12852</td>\n",
       "    </tr>\n",
       "    <tr>\n",
       "      <th>4</th>\n",
       "      <td>2020-09-30</td>\n",
       "      <td>[デブサミ, イベントレポート, エンジニア組織]</td>\n",
       "      <td>新型コロナに全力で立ち向かう！ Yahoo! MAPの開発経緯とリモートワーク開発攻略法6選...</td>\n",
       "      <td>/article/detail/12862</td>\n",
       "    </tr>\n",
       "    <tr>\n",
       "      <th>5</th>\n",
       "      <td>2020-09-30</td>\n",
       "      <td>[UI／UX, プロダクト開発]</td>\n",
       "      <td>プロダクトのデザインを長く健康に保つには？――デザインの優先順位・チームでのコミュニケーショ...</td>\n",
       "      <td>/article/detail/12791</td>\n",
       "    </tr>\n",
       "    <tr>\n",
       "      <th>6</th>\n",
       "      <td>2020-09-29</td>\n",
       "      <td>[DevOps, 運用, デブサミ, イベントレポート]</td>\n",
       "      <td>DevとOpsの対立を見てきたエンジニアが提案する、両者に最適なインフラとは？ 【デブサミ2...</td>\n",
       "      <td>/article/detail/12854</td>\n",
       "    </tr>\n",
       "    <tr>\n",
       "      <th>7</th>\n",
       "      <td>2020-09-29</td>\n",
       "      <td>[マンガ]</td>\n",
       "      <td>「中間者攻撃」　～マンガでプログラミング用語解説</td>\n",
       "      <td>/article/detail/12676</td>\n",
       "    </tr>\n",
       "    <tr>\n",
       "      <th>8</th>\n",
       "      <td>2020-09-29</td>\n",
       "      <td>[開発プロセス]</td>\n",
       "      <td>品質のアジャイルなあり方（3）：「品質エキスパートをシャドーイング」「QAリーダーとペアリン...</td>\n",
       "      <td>/article/detail/12633</td>\n",
       "    </tr>\n",
       "    <tr>\n",
       "      <th>9</th>\n",
       "      <td>2020-09-28</td>\n",
       "      <td>[インタビュー]</td>\n",
       "      <td>エンジニアとしてFinTechに携わる社会意義・醍醐味とは？――決済業界のエキスパートに聞く</td>\n",
       "      <td>/article/detail/12861</td>\n",
       "    </tr>\n",
       "    <tr>\n",
       "      <th>10</th>\n",
       "      <td>2020-09-28</td>\n",
       "      <td>[Java]</td>\n",
       "      <td>Java 12～15でリリースされた機能を確認しよう！ 新しいクラス・構文・式でコードが書きやすく</td>\n",
       "      <td>/article/detail/12905</td>\n",
       "    </tr>\n",
       "    <tr>\n",
       "      <th>11</th>\n",
       "      <td>2020-09-25</td>\n",
       "      <td>[事例, アプリケーション開発]</td>\n",
       "      <td>あなたの技術で現場の「困った」を笑顔に！ スモールビジネスにおけるfreeeのAPI活用事例</td>\n",
       "      <td>/article/detail/12872</td>\n",
       "    </tr>\n",
       "    <tr>\n",
       "      <th>12</th>\n",
       "      <td>2020-09-25</td>\n",
       "      <td>[UI／UX, プロダクト開発]</td>\n",
       "      <td>“チーム全員プロダクトオーナー”の開発――グッドパッチが重視する、デザインプロセスのメソッドとは？</td>\n",
       "      <td>/article/detail/12840</td>\n",
       "    </tr>\n",
       "    <tr>\n",
       "      <th>13</th>\n",
       "      <td>2020-09-24</td>\n",
       "      <td>[UI／UX, プロダクト開発]</td>\n",
       "      <td>「シンプルで誰でも使える」プロダクトは、ユーザーの実感を共有しながら作る――「Strap」開...</td>\n",
       "      <td>/article/detail/12754</td>\n",
       "    </tr>\n",
       "    <tr>\n",
       "      <th>14</th>\n",
       "      <td>2020-09-24</td>\n",
       "      <td>[技術解説, データテクノロジー]</td>\n",
       "      <td>最先端のスパースモデリング～HMLassoとPliable Lasso～</td>\n",
       "      <td>/article/detail/12662</td>\n",
       "    </tr>\n",
       "  </tbody>\n",
       "</table>\n",
       "</div>"
      ],
      "text/plain": [
       "    published                          tags  \\\n",
       "0  2020-10-02       [PHP, 技術解説, アプリケーション開発]   \n",
       "1  2020-10-02            [プロダクト開発, エンジニア組織]   \n",
       "2  2020-10-01       [PHP, 技術解説, アプリケーション開発]   \n",
       "3  2020-10-01       [クラウド, AWS, セキュリティ, 事例]   \n",
       "4  2020-09-30     [デブサミ, イベントレポート, エンジニア組織]   \n",
       "5  2020-09-30              [UI／UX, プロダクト開発]   \n",
       "6  2020-09-29  [DevOps, 運用, デブサミ, イベントレポート]   \n",
       "7  2020-09-29                         [マンガ]   \n",
       "8  2020-09-29                      [開発プロセス]   \n",
       "9  2020-09-28                      [インタビュー]   \n",
       "10 2020-09-28                        [Java]   \n",
       "11 2020-09-25              [事例, アプリケーション開発]   \n",
       "12 2020-09-25              [UI／UX, プロダクト開発]   \n",
       "13 2020-09-24              [UI／UX, プロダクト開発]   \n",
       "14 2020-09-24             [技術解説, データテクノロジー]   \n",
       "\n",
       "                                                title                    url  \n",
       "0                 ノンコーディングでサイト構築～Drupalのレイアウトビルダーを使おう  /article/detail/12871  \n",
       "1       全エンジニアがプロダクトの状況と方針を理解した上で開発する――CTO不在の組織再建の舞台裏  /article/detail/12829  \n",
       "2                  ノンコーディングでサイト構築～Drupalの多言語機能とメディア管理  /article/detail/12860  \n",
       "3   AWS Fargateの活用事例――金融業界の繊細なセキュリティ課題をどう乗り越えるのか、マ...  /article/detail/12852  \n",
       "4   新型コロナに全力で立ち向かう！ Yahoo! MAPの開発経緯とリモートワーク開発攻略法6選...  /article/detail/12862  \n",
       "5   プロダクトのデザインを長く健康に保つには？――デザインの優先順位・チームでのコミュニケーショ...  /article/detail/12791  \n",
       "6   DevとOpsの対立を見てきたエンジニアが提案する、両者に最適なインフラとは？ 【デブサミ2...  /article/detail/12854  \n",
       "7                            「中間者攻撃」　～マンガでプログラミング用語解説  /article/detail/12676  \n",
       "8   品質のアジャイルなあり方（3）：「品質エキスパートをシャドーイング」「QAリーダーとペアリン...  /article/detail/12633  \n",
       "9      エンジニアとしてFinTechに携わる社会意義・醍醐味とは？――決済業界のエキスパートに聞く  /article/detail/12861  \n",
       "10  Java 12～15でリリースされた機能を確認しよう！ 新しいクラス・構文・式でコードが書きやすく  /article/detail/12905  \n",
       "11     あなたの技術で現場の「困った」を笑顔に！ スモールビジネスにおけるfreeeのAPI活用事例  /article/detail/12872  \n",
       "12  “チーム全員プロダクトオーナー”の開発――グッドパッチが重視する、デザインプロセスのメソッドとは？  /article/detail/12840  \n",
       "13  「シンプルで誰でも使える」プロダクトは、ユーザーの実感を共有しながら作る――「Strap」開...  /article/detail/12754  \n",
       "14               最先端のスパースモデリング～HMLassoとPliable Lasso～  /article/detail/12662  "
      ]
     },
     "execution_count": 28,
     "metadata": {},
     "output_type": "execute_result"
    }
   ],
   "source": [
    "import pandas as pd\n",
    "df = pd.DataFrame(articles)\n",
    "df"
   ]
  },
  {
   "cell_type": "code",
   "execution_count": null,
   "metadata": {},
   "outputs": [],
   "source": []
  }
 ],
 "metadata": {
  "kernelspec": {
   "display_name": "Python 3",
   "language": "python",
   "name": "python3"
  },
  "language_info": {
   "codemirror_mode": {
    "name": "ipython",
    "version": 3
   },
   "file_extension": ".py",
   "mimetype": "text/x-python",
   "name": "python",
   "nbconvert_exporter": "python",
   "pygments_lexer": "ipython3",
   "version": "3.6.6"
  }
 },
 "nbformat": 4,
 "nbformat_minor": 4
}
